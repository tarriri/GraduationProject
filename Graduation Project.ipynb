{
 "cells": [
  {
   "cell_type": "markdown",
   "metadata": {
    "deletable": true,
    "editable": true
   },
   "source": [
    "# Natural Language Processing Applied to Collected News Articles with NLTK\n",
    "\n",
    "## Members\n",
    "\n",
    "1. First member: Tarık Kılıç / kilicsem@itu.edu.tr\n",
    "\n",
    "## Description of the project\n",
    "\n",
    "This project contains applications of Natural Language Processing such as keyword extraction on collected news articles of Turkish media. News articles are collected from Web Archive and for time span of 2 months (December 2016-January 2017). Goal of the project is to extract most important keywords and concepts from this data source by using Natural Language Processing techniques.\n",
    "\n",
    "### Libraries\n",
    "\n",
    "#### NLTK\n",
    "NLTK, [the Natural Language Toolkit](http://www.nltk.org/) is a natural language platform for Python which includes a variety of corporas, documentations and modules for frequently used techniques of analysis for human language data. It is an open-source and community-driven project.\n",
    "\n",
    "#### NumPy\n",
    "[NumPy](https://docs.scipy.org/doc/numpy-dev/user/quickstart.html) is an essential Python module for scientific computing. NumPy provides multi-dimensional array and matrix feature with all levels of mathematical operations to operate on this structures. \n",
    "\n",
    "#### BeautifulSoup\n",
    "[Beautiful Soup](https://www.crummy.com/software/BeautifulSoup/bs4/doc/) is an Python library that extracts, filters and manipulates data from XML and HTML documents and bind it to other data structures. It also provides navigation and search in XML and HTML documents. It has flexibility to work with several parsers in Python environment.\n",
    "\n",
    "#### peewee\n",
    "[peewee](http://docs.peewee-orm.com/en/latest/) is a small and lightweight Object Relational Mapper library for several database technologies such as MySQL, SQLite and Postgresql. Its code hosted on [GitHub](https://github.com/coleifer/peewee)\n",
    "\n",
    "\n",
    "### The methods to be used\n",
    "\n",
    "While processing data, Latent Semantic Analysis(LSA) concepts will be implemented. To sum up, LSA is a mathematical technique to extract and determine relationship between terms and concepts in semantic context. It is an analysis method of text documents which provides latent, hidden concepts of semantics in it. LSA has the ability to extract indirect relations between terms. If two word never appear together in the same document but always appear with another third word individually, LSA is able to extract this connection between terms.  In this project, context or in another words document data is news articles. Frequently mentioned terms and techniques of LSA will be explained in detail.\n",
    "\n",
    "#### Document: \n",
    "Every seperate text body represent documents. In that case, each news article will be mentioned as document. \n",
    "\n",
    "#### Term-Document Matrix: \n",
    "It is a two-dimensional matrix representing frequency of each term in each document. Rows are for terms and columns are for documents.\n",
    "\n",
    "#### Term Frequency(tf): \n",
    "For each term in a document, the number of occurances is called term frequency. This must be noted that term frequencies are identical between documents \"X is better than Y\" and \"Y is better than X\". There could be different type of term frequency weighting such as raw count, adjusted term frequency or augmented term frequency. Term frequency adjusted to document length will be the choice in that project for normalization purposes.Thus, the effect of long articles to the overall result tried to be minimized.\n",
    "\n",
    "#### Inverse Document Frequency(idf) : \n",
    "In terms of relevancy, terms as \"is\" is weighting equally as \"better\" in term frequency. But it shouldn't weight as much as \"better\" in semantic context. To solve this problem, inverse document frequency is defined for measuring whether term is rare or common across all documents. Idf is calculated as \\begin{equation*} idf(t,D) = log(\\frac{N}{1+\\left|\\big\\{ d \\in D : t \\in d \\big\\}\\right|}) \\end{equation*} where N is the total number of the documents in collection, and $\\left|\\big\\{ d \\in D : t \\in d \\big\\}\\right|$ is the number of documents where term t appears. It is easy to observe in any document collection that idf of a rare term is high and idf of a common term is low.\n",
    "\n",
    "#### tf-idf : \n",
    "tf-idf weight is calculated by the product of tf and idf. Behaviour of tf-idf can be categorized as \n",
    "   * highest whenever a term occurs many time within a small number of documents.\n",
    "   * lower when a term occurs fewer times in a document or occurs in many documents.\n",
    "   * lowest when a term occurs many times in all documents.\n",
    "\n",
    "#### Stop words : \n",
    "Stop words can be defined as a group words which are filtered before processing of text. There is no standart list of stop words to be filtered. It can vary in different semantic contexts. NLTK Data module is used for stopword extraction. It has a variety of stopword lists on it for different languages.\n",
    "\n",
    "#### Stemming: \n",
    "It is a process of reducing inflected or derived words to their root form. It has a direct effect on result, since LSA is based on number of occurances in corpus. For the words derived from same root and has same meaning on corpus, stemming provides a corrected weight. [Snowball Turkish stemming algorithm](http://snowball.tartarus.org/algorithms/turkish/stemmer.html) used as stemmer in this project.\n",
    "\n",
    "#### Tokenization: \n",
    "Tokenization is a process of dividing string into substrings. Within NLTK library, word tokenization and sentence tokenization are some tokenization techniques. Since we're working with terms, word tokenization is used in this project. word_tokenize method from nltk.tokenize module returns a word token list for given string. \n",
    "\n",
    "#### Single Value Decomposition: \n",
    "SVD is a factorization of a real matrix A such as \\begin{equation*} A \\cong UsV\\intercal \\end{equation*} where U is a m $\\times$ m matrix, s is a m $\\times$ n matrix, V is a n $\\times$ n matrix whenever A is a m $\\times$ n matrix. It should be noted that diagonal elements of s is singular values of matrix A and thus reduced into diagonal elements. In LSA, tf-idf matrix put into SVD factorization in order to get U,s and V which all represents different dimensions of analysis. s consists weights of features or topics in corpus. U represents relation between terms and features of corpus and V represents relation between documents and features. Since reduced vector s is sorted, first element of s represent most powerful feature of corpus, thus first row of matrix U gives us numerical score of how each term related to the most powerful feature in corpus. All those numerical values represents a meaning in a sorted context but not as numerical weights. Keyword extraction by using matrix U is sensible if numerical weights is used in order to rank terms between themselves. For SVD calculations numpy library used. [svd](https://docs.scipy.org/doc/numpy-1.12.0/reference/generated/numpy.linalg.svd.html) method of numpy.linalg module returns U,s and V matrix respectively where s is a reduced vector of singular values of given matrix.\n",
    "\n",
    "For some cases, it is observed that data noise caused by stemmer is not important in result. For instance, let x,y,z be derived forms of same root form a, which stemmer failed to reduce. In results, it is observed that x, y, z are appearing together and weighting as they are one term in root form.\n",
    "\n",
    "### The data\n",
    "\n",
    "Data set used in this project consists news articles from all topics across various newspapers. We select 10 newspapers from Turkish media according to circulation statistics. Our data set is really dependent to Web Archive. Methodology to obtain data set has 2 parts;\n",
    "\n",
    "1. Url Extraction of Specified Date: Every newspaper has a web site and in a relational database(SQLite), homepage URL of every newspaper is recorded. For a specified date in the past, using [client library of Memento Protocol](https://github.com/mementoweb/py-memento-client) for Python, [Memento Protocol](http://www.mementoweb.org/about/) is used in order to get past version of URL. If there is no past version of specified date of URL, [Wayback Availability API](https://archive.org/help/wayback_api.php) of Internet Archive is used in order to extract URL.  \n",
    "\n",
    "2. Content-News Article URL Scraping: After obtaining homepage of specified date, we need to access to news articles of that date. In order to achieve that, all anchor tags of homepage needs to be scraped. This may not get all news articles in that date, but a sufficient majority of articles can be collected in that way. It is stored in URLInformation table with necessary information to scrape.\n",
    "\n",
    "3. Article Scraping from URL: In this section, articles should be scraped from obtained URL's in order to construct corpus to run analysis on. Beautiful Soup library is used for scraping. After get request made to URL, if response is successful html body passed to scraper methods. For a more clear scraping, for every newspaper, specifications on div element which consists data for scraping has been made. Class and id properties of html elements are added to Platform table. For most of the cases, in a newspaper domain, content of news article found on spesific html elements with a certain class and id. Beautiful Soup has ability to navigate and filter through HTML document with class and id information. It is demonstrated in code section. Scraped article is saved to CollectedArticles table.\n",
    "\n",
    "\n",
    "## Code"
   ]
  },
  {
   "cell_type": "code",
   "execution_count": 32,
   "metadata": {
    "collapsed": false,
    "deletable": true,
    "editable": true
   },
   "outputs": [
    {
     "name": "stdout",
     "output_type": "stream",
     "text": [
      "Modules are imported\n"
     ]
    }
   ],
   "source": [
    "# Necessary imports\n",
    "from urllib.parse import urlparse\n",
    "\n",
    "import sys\n",
    "path_of_modules = '/GraduationProject/NewsAnalysis/GraduationProject'\n",
    "if path_of_modules not in sys.path:\n",
    "    sys.path.append(path_of_modules)\n",
    "from Scraper import Scraper\n",
    "from Utility import Utility\n",
    "import math\n",
    "from nltk.tokenize import word_tokenize\n",
    "import snowballstemmer\n",
    "from nltk.corpus import stopwords\n",
    "import numpy\n",
    "\n",
    "print(\"Modules are imported\")"
   ]
  },
  {
   "cell_type": "markdown",
   "metadata": {},
   "source": [
    "This is demonstration of Url extraction of specified date. If memento protocol unable to obtain past version of url, Wayback Machine API used."
   ]
  },
  {
   "cell_type": "code",
   "execution_count": 33,
   "metadata": {
    "collapsed": false
   },
   "outputs": [
    {
     "name": "stdout",
     "output_type": "stream",
     "text": [
      "Stored 'past_version' (str)\n",
      "http://web.archive.org/web/20161130190715/http://www.hurriyet.com.tr/\n"
     ]
    }
   ],
   "source": [
    "from memento_client import MementoClient\n",
    "import datetime\n",
    "import requests\n",
    "\n",
    "# Date and url initialization.\n",
    "memento = MementoClient()\n",
    "date = datetime.datetime.strptime(\"01-12-2016\", \"%d-%m-%Y\")\n",
    "url = \"http://www.hurriyet.com.tr/\"\n",
    "wayback_url = \"http://archive.org/wayback/available?url={}&timestamp={}\"\n",
    "\n",
    "try:\n",
    "    memento_info = memento.get_memento_info(url, date)\n",
    "    if memento_info.get(\"mementos\"):\n",
    "        mementos = memento_info.get(\"mementos\")\n",
    "        if mementos is not None and mementos.get(\"closest\").get(\"uri\") and mementos.get(\"closest\").get(\"uri\").__len__() > 0:\n",
    "            past_version = mementos.get(\"closest\").get(\"uri\")[0]\n",
    "    raise Exception()\n",
    "except Exception:\n",
    "    timestamp = date.strftime(\"%Y%m%d%H%M%S\")\n",
    "    wayback_get = requests.get(wayback_url.format(url, timestamp))\n",
    "    if wayback_get.status_code == 200:\n",
    "        result = wayback_get.json()[\"archived_snapshots\"]\n",
    "        if result is not None and result.get(\"closest\") and result[\"closest\"][\"available\"] is True:\n",
    "            past_version = result[\"closest\"][\"url\"]\n",
    "\n",
    "%store past_version\n",
    "print(past_version)"
   ]
  },
  {
   "cell_type": "markdown",
   "metadata": {},
   "source": [
    "After getting url of archived version, home page of website needs to be scraped to get news pages on that date. This is made via get_anchor_list_for_domain method from Scraper class. It basically uses Beautiful Soup to filter anchor elements in document and checks if href of anchor tag is a valid url but not a social media sharing link for instance."
   ]
  },
  {
   "cell_type": "code",
   "execution_count": 34,
   "metadata": {
    "collapsed": false,
    "deletable": true,
    "editable": true
   },
   "outputs": [
    {
     "name": "stdout",
     "output_type": "stream",
     "text": [
      "116 URL extracted from homepage\n",
      "Stored 'content_list' (set)\n"
     ]
    }
   ],
   "source": [
    "# getting back past version of homepage url\n",
    "%store -r past_version\n",
    "\n",
    "import NewsAnalysisDatabase as db\n",
    "    \n",
    "scraper = Scraper()\n",
    "utility = Utility()\n",
    "content_list = set()\n",
    "\n",
    "r_get_homepage = requests.get(past_version)\n",
    "if r_get_homepage.status_code == 200:\n",
    "    platform = db.get_platform_by_object_id(1)\n",
    "    if platform is not None:\n",
    "        content_list.update(scraper.get_anchor_list_for_domain(r_get_homepage.content, utility.get_fixed_domain(past_version), platform.urldomain))\n",
    "    \n",
    "print(str(len(content_list)) + ' URL extracted from homepage')\n",
    "%store content_list"
   ]
  },
  {
   "cell_type": "markdown",
   "metadata": {},
   "source": [
    "In this part, get requests are made to extracted URL's and if status is OK, response HTML is scraped for articles. Then scraped articles are saved to database. For demonstrational purposes, 10 article scraped in this cell."
   ]
  },
  {
   "cell_type": "code",
   "execution_count": 35,
   "metadata": {
    "collapsed": false,
    "deletable": true,
    "editable": true
   },
   "outputs": [
    {
     "name": "stdout",
     "output_type": "stream",
     "text": [
      "article added: \n",
      "Sonbaharda hava kapansa, bulutlar tepemizden eksik olmasa da hala dışarıda egzersiz yapabileceğiniz harika güneşli günler bulunuyor. Bu günlerden birinde bahçeye çıktık ve fitness eğitmeni Zeynep Kapdan ile oyunla egzersizi birleştiren harika bir antrenman yaptık. 4 bölümden oluşan ve yaklaşık 30 dakikanızı alacak antrenman yağ yakmanızı sağlarken core kaslarınızı güçlendirecek, özellikle kalçalarınızı şekillendirecek.BÖLÜM 1 ALIŞTIRMALAR (DRILLS) 3 kez tekrarlayın➤ Yürüyerek lunge: Her bir bacakla 10 tekrar➤ Yüksek tekme: Her bir bacakla 10 tekrar➤ Zıplayarak diz çekme: Her bir bacakla 15 tekrar➤ Diz çekme: Her bir bacakla 15 tekrar➤ Kalçaya tekme: Her bir bacakla 15 tekrarYürüyerek lungeBacaklar kalça hizasında aralı dik durarak başlayın. Sağ bacağınızla ileri adım atın ve her iki bacağınızı dizden 90 derecelik açıyla bükerek alçalın, öndeki bacağın üst kısmı yere paralel, öndeki ayak yere tam basıyor, arkadaki ayağın ise parmak ucuna basıyorsunuz ve diz yere değiyor… Bu esnada öndeki dizinizin ayak parmaklarını geçmemesine dikkat edin. Öndeki bacağın topuğuna basarak kalkın ve şimdi sol bacağınızla ileri adım atarak lunge pozisyonuna alçalın. Bir sağ, bir sol adım atarak tekrarlayın.Diz çekerek koşuKollar vücudun yanlarında dik durun. Dizleri sırasıyla vücudunuzun önünde kalça hizasına çekerek ilerleyin. Kolların da hareketin akışına uygun olarak ileri geri sallanmasına izin verin. Drill, hamstring (arka bacak) ve gluteus (popo) kaslarını güçlendirir, hız kazanmanızı sağlar.Kalçaya tekmeAyakta dik durun. Bacakları teker teker dizden geriye doğru bükerek topukları kalçaya değdirmeye çalışın. Parmak ucunda yere basın. Kolları dirsekten büküp yanlarda tutarak hareketle birlikte ritmik ve doğal bir şekilde sallayın. Üst bacak kaslarına esneklik sağlar, güç kazandırır.Yüksek tekmeAyakta dik durun. Bir bacağı dizden bükmeden kalça hizasından biraz yukarı kaldırın. Bu esnada çaprazdaki kolunuzu da yukarıdaki bacağa doğru uzatın. Bir sağ, bir sol bacakla tekme atarak ritmik bir şekilde tekrarlayın. Hareket sırasında sırtınızı kamburlaştırmamaya dikkat edin. Hamstring (arka bacak) ve gluteus (popo) kaslarının hareket kabiliyetini artırır, arka bacak kaslarını esnetir.Zıplayarak diz çekmeKollar vücudun yanlarında dik durun. Bir ayakla parmak ucunda kendinizi yukarı doğru itin, hafifçe zıplarken diğerini de dizden bükerek yukarı doğru çekin, aynı esnada yukarı kalkan dizin çaprazındaki kolu indirin, diğerini kaldırın ve alınan momentumla öne doğru sekerek ritmik bir şekilde ilerleyin. (Çocukluğunuzda nasıl sekerek koştuğunuzu hatırlayın.) Yere yumuşak basmaya dikkat edin.BÖLÜM 2 HIZ4 kez tekrarlayın➤ 100 metre sprint➤ 100 metre yürüme➤ 100 metre boyunca koşabildiğiniz kadar hızlı koşuSprintlerde kollarınızı ileri ve geriye hareket ettirerek hız kazanın. 100 metre koştuktan sonra geriye 100 metre normal hızda yürüyerek dinlenin. 4 kez bu şekilde tekrarlayın.BÖLÜM 3 YAĞ YAKIMI3 kez tekrarlayın➤ Burpee: 10 tekrar➤ Reverans lunge: Her bir bacakla 10 tekrar➤ Tek ayak üstünde zıplama: Her bir bacakla 10 tekrar➤ Diz çekerek yana koşu: Her iki yöne 10 metreBurpeeHarekete ayakta başlayın. Ayaklarınızı omuz genişliğinde aralayıp kollarınızı yukarı uzatın. Öne doğru eğilerek ellerinizi omuz hizasında yere koyun, bacaklarınızı da geriye uzatarak şınav pozisyonu alın. Şimdi alt karın kaslarının gücüyle bacaklarınızı bir hamleyle gövdenize doğru çekip squat pozisyonuna gelin (burada genellikle önce dizleri çekmek gibi bir hata yapılıyor, tek hamlede şınavdan squat’a geçin) ve hemen sonra yukarı zıplayarak başlangıç pozisyonuna gelin. Bu bir tekrardı. Aynı şekilde tekrarlayın. Hareketler sırasında sırtın düz, karın kaslarının sıkı olmasına dikkat edin. Burpee yaparken her bir hareketi birbirinin devamında akacak şekilde yapın.Reverans lungeAyaklar kalça hizasında aralı, karın kasları sıkı… Ağırlığı sol ayağa vererek sağ ayakla sol ayağın gerisine ve çaprazına geniş bir adım atın. Dizlerden bükülerek üst bacak yere paralel oluncaya ve dizler 90 derecelik açıya gelinceye kadar üst bedeni yere yaklaştırın. Her iki yöne eşit sayıda uygulayın. Lunge pozisyonu alırken öndeki dizi ayak bileğinizin hizasında tutun.Tek ayak üstünde zıplamaTek ayak üzerinde durun, kollar yanlarda dengeyi sağlıyor, dizleri hafifçe bükün ve tek ayağınızın üzerinde zıplayarak ileri doğru gidin. Topuklarda değil, ayak ucunda yere inin ve ritmik bir şekilde tekrarlayın. Bir taraftaki bacağınızla belirtilen sayıda tekrarladıktan sonra diğer ayakla uygulayın.Diz çekerek yana koşuKollar vücudun yanlarında dik durun. Vücudunuzun karşıya baktığı pozisyonda dizleri sırasıyla vücudunuzun önünde kalça hizasına çekerek yana doğru ilerleyin. Kolların da hareketin akışına uygun olarak ileri geri sallanmasına izin verin. BÖLÜM 4 ÇEVİKLİK3 kez tekrarlayın➤ 4 yöne koşu: 4 tekrar4 yöne koşu10 metre arayla yere işaretler koyarak bir kare oluşturun. Sol üst köşede durun. İleri doğru sprint ile koşun ve ikinci noktaya ulaşın. Buradan soldan sağa yanlamasına koşarak üçüncü işaret noktasına ulaşın. Şimdi geriye doğru koşarak dördüncü işaret noktasına gelin. Ve nihayetinde sağdan sola yanlamasına koşarak başlangıç noktasına ulaşarak aynı döngüyü tekrarlayın.\n",
      "------------------------------------------\n",
      "article added: \n",
      "ENERJİ üretimi kaynakları çoğaldıkça, yenilenebilir gibi kesik kesik üretim yapan projelerin oranı arttıkça, teknoloji ve dijital sistemler gelişmeye devam ettikçe, enerjiyi kullanmanın ve depolamanın da yeni yöntemleri gelişiyor.Birden çok enerji kaynağı kullanılarak oluşturulan sistemlere, hibrit enerji sistemleri deniyor. Hibrit sistemler genellikle, sürekli veya kritik anlarda elektrik sağlamak amacıyla iki veya daha fazla enerji üretim uygulamasının kombinasyonu anlamına gelirken, tasarımı iyi yapılmış bir hibrit sistemde yıl boyu (yaz-kış) daha istikrarlı bir elektrik üretimi yapılabiliyor. Dünyada birçok enerji piyasası dönüşümden geçiyor. Örneğin Avrupa gibi bölgelerde konvansiyonel yöntemlerle doğalgaz üretimi düşüyor, diğer yandan arz çeşitleri artıyor. Çevre kaygıları ve iklim değişikliği gibi konular siyaset ve sosyal gündemin ön sıralarında yer alırken, temiz enerji kaynaklarına olan eğilimi güçlendiriyor… Bu gelişmeler ve daha fazlasına “enerji geçişi” veya enerji dönüşümü deniliyor. Ortak görüş ise enerjide bu geçiş yaşanırken, daha esnek enerji sistemlerine duyulan ihtiyacın artacağı şeklinde…ABD’DE İLGİNÇ OLAY Bu yıl ABD’nin Los Angeles şehrinde oldukça ilginç bir olay yaşandı. ABD tarihindeki en kötü doğalgaz sızıntısının yaşanmasıyla Los Angeles’ın (LA) Porter Ranch mahallesi sakinleri evlerini ve okullarını boşaltmak zorunda kaldı. 10 haftayı aşkın bir süre bölgedeki bir doğalgaz kuyusu metan ve etan gazları sızdırarak, binlerce kişide burun kanaması, baş dönmesi ve baş ağrısı gibi sağlık sorunlarına neden oldu. Düzenleyiciler, güvenlik önlemi olarak bölgedeki doğalgaz rezervlerini önemli ölçüde azalttı. Ancak tüm bunlar tam da LA’nin bunaltıcı yaz sezonuna doğru ilerlediği dönemde yaşanırken, yetkililer, “Acaba gaz rezervlerinin azalması LA sakinleri için elektrik kesintilerine neden olur mu” diye kara kara düşünmeye başladı. Bunun üzerine California Valisi Jerry Brown, depolama tesisinde kalan gazın daha uzun süre dayanmasını sağlayacak yeni fikirler için çağrıda bulundu. General Electric’in (GE) enerji startup’ı Current’ta görevli mühendisler ise çözüm olarak hibrit elektrikli gaz türbini önerdi. Dünyanın ilk gaz türbini ve pil depolama kombinasyonu olan bu sistemde, 10 megavatlık pil 50 megavatlık gaz türbini ile bağlanıyor. Türbinde oluşan fazla güç ile pilin şarj edildiği bu sistem, elektrik talebindeki değişimlere daha hızlı karşılık vererek, gaz türbininin daha mükemmel bir oranda çalışmasına izin veriyor. Tıpkı motor çalışırken aküyü şarj eden ve ışıklarda beklemek gibi motora gerçekten gerek duyulmadığı durumlarda pilin devreye girmesini sağlayan hibrit arabalarda olduğu gibi… HİBRİT ÇÖZÜMLER Tıpkı bu örnekte olduğu gibi uzmanlara göre, pil ve enerji depolama sistemlerinde maliyetler düştükçe, hibrit çözümlerle daha sık karşılaşacağız. Birçok yenilenebilir enerji uzmanına göre, rüzgar veya fotovoltaik güneş teknolojilerini birleştiren ya da tek sistem üzerinden kullanan küçük bir hibrit elektrik sistemi pek çok avantaj sunabilir. Rüzgar ve güneş enerjisi sistemlerinde verimli enerji üretimi, günün ve yılın değişik zamanlarında farklılık gösterirken, rüzgar hızının yetersiz veya verimsiz olduğu günlerde alternatif olarak güneş enerjisinden istifade edilebiliyor. Böylece sistemde enerji üretiminin devamlılığı sağlanıyor. Günümüzde şebeke veya endüstriyel tesisleri yalnızca yenilenebilir enerji üretimi ile beslemek yeterince güvenilir ve esnek olmayabiliyor. Bu nedenle yenilenebilir enerji kaynaklarını, doğalgaz gibi yenilenebilir olmayan kaynaklarla kullanmak veya depolama ile desteklemek de bir trend olarak öne çıkıyor. GELENEKSEL İLE YENİNİN ORTAKLIĞI Bazı uzmanlara göre yenilenebilir enerjiye geçiş bir günde mümkün olmadığı için fosil yakıtlar enerji karışımında önümüzdeki yıllarda da önemli rol oynamaya devam edecek. Böylece doğalgaz ve güneş enerjisi gibi kaynaklar bir süre daha ortak kullanılacak. Geleneksel enerji kaynakları ile yenilenebilir enerjiyi entegre eden tesisler ise hem daha az karbon salımı, hem verimlilikte artış yaşarken, diğer yandan güvenilir ve esnek enerjiden de faydalanmış olacak. Enerji uzmanlarına göre, dünya fosil yakıtlardan temiz enerjiye doğru geçerken, hibrit enerji üretim sistemleri ve enerji depolama önemli rol oynayacak. Ar-Ge çalışmalarının, ileride güneş ve rüzgar enerjisini hava şartlarına daha az bağımlı hale getirmesi öngörülürken, yenilenebilir enerji üretim kapasitesinin genel yüzdesinin giderek artması da bekleniyor. Tabii daha etkin depolama teknolojilerinin de yenilenebilir enerjiye olan güveni arttıracağı kaydediliyor.DEPOLAMANIN ÖNEMİ ARTIYOR Orta Doğu Teknik Üniversitesi (ODTÜ) Metalurji ve Malzeme Mühendisliği Bölümü Öğretim Üyesi Prof. Dr. Tayfur Öztürk, Anadolu Ajansı ile yaptığı söyleşide enerjinin depolanmasının elektrik açısından en önemli bileşenlerden biri haline geldiğini belirterek, “Özellikle rüzgar ve güneş enerjisinin toplam kurulu güçteki payı yüzde 70-80'i bulan ülkeler var, etkin bir enerji depolama politikası ve uygun teknolojilerin geliştirilmesiyle enerji ihtiyacının büyük bir bölümü yenilenebilirden karşılanabilir” diyor. Öztürk, günümüzde arz güvenliği, enerji kaynaklarının daha verimli kullanılması, elektrik iletim ve dağıtım problemlerinin ve maliyetlerinin azaltılması gibi nedenlerle enerjinin depolanmasının öneminin giderek arttığını vurguluyor. Enerjinin depolanmasının elektrik değer zincirinin en önemli bileşenlerinden birisi olduğunu vurgulayan Öztürk, “Bugün için ülkemiz açısından önemli olan, rüzgar ve güneş enerjisi santrallerinin hızla artırılması ve bunların ulusal şebekeye sorunsuz bağlantısının sağlanmasıdır. Bu amaç için rüzgar ve güneş enerjisindeki aşırı hareketliği dengeleyecek batarya gruplarına ihtiyaç var” şeklinde konuşuyor. Bu arada, dünyada elektrik depolama kapasitesinin en fazla kullanıldığı ülkeler arasında Çin, Japonya, ABD ilk sıraları paylaşıyor.\n",
      "------------------------------------------\n",
      "article added: \n",
      "Sony'nin artık efsane olan markası Walkman, çok özel bir cihazla birlikte bir kez daha geri döndü.Uzun süren bir bekleyişin ardından nihayet piyasaya sürülen Final Fantasy XV'le birlikte oyunun bu popülaritesinden pay almak isteyen firmalar harekete geçti bile. Daha önce FF XV markalı bir Audi A8'le karşılaşmıştık. Şimdi de Sony sınırlı sayıda ürettiği Final Fantasy XV Walkman, kulaklık ve taşınabilir hoparlör modeliyle bu çılgınlığa dahil oldu.Hi-Res audio desteğine sahip olan söz konusu A-Series Walkman modelinin arka panelinde Noctis ve Co.'nun pixel versiyonları ve özel simgeler yer alıyor. Oldukça havalı bir kutuya da sahip olan Walkman'in fiyatı da 16 GB'lık model için 33.880 yen'den (yaklaşık 300 dolar) başlıyor.SRS-HG1 Bluetooth hoparlör ve MDR-100A kulaklıkların fiyatı ise 260 dolar olarak belirlenmiş durumda. Walkman'in sahipleri ayrıca Final Fantasy XV film müziklerinin High-Res versiyonunu da 53 dolar karşılığında alabilecekler ve filmin ücretsiz bir posterine de sahip olacaklar.Filmin hayranları arasında bu cihazları almayı kafaya koyanlar, eğer Japonya'da değillerse biraz zorlanabilirler. Zira bahsi geçen ürünler sadece Japonya'da satışa çıkacak.İLGİNİZİ ÇEKEBİLİR: İŞTE EFSANE WALKMAN MODELLERİ\n",
      "------------------------------------------\n",
      "Nothing found on: http://web.archive.org/web/20161130190715/http://www.hurriyet.com.tr/fenerbahce-genclerbirligi-turkiye-kupasi-maci-hangi-kanalda-saat-kacta-40292153\n",
      "------------------------------------------\n",
      "article added: \n",
      "Haberin diğer fotoğrafları için tıklayınMersin’de polisin eğlence mekanlarına yönelik operasyonları sonucunda fuhuş yapmak iddiasıyla 28 yabancı uyruklu kadın gözaltına alındı. Çeşitli suçlardan arama kayıtları bulunan 5 kişi de yakalandı.Asayiş, KOM ve Trörle Mücadele Müdürlüğü ekiplerinin destek verdiği denetimlerde kent merkezindeki 18 mekanda arama ve kimlik kontrolleri yapıldı. Yaklaşık 50 ekibin 100 polisle katıldığı kontrollerde 200’ün üzerinde kişinin kimliği sorgulandı. Mersin’de fuhuş yaptıkları şüphesi ile 21 Suriye, 6 Azerbaycan ve 1 Fas uyruklu kadın gözaltına alınarak Yabancılar Şube Müdürlüğü’ne teslim edildi.\n",
      "------------------------------------------\n",
      "article added: \n",
      "Yeniden yapılandırmada son güne yığılan başvurular üzerine Maliye Bakanlığı harekete geçti. Öte yandan, Maliye Bakanı Naci Ağbal, yeniden yapılandırma için vatandaştan çok yoğun başvuru geldiğini belirterek, \"Kimse merak etmesin, herkes parasını ödeyecek. Arkadaşlara 'Kuyruğa giren hiç bir vatandaş, isterse saat 24.00'ü geçsin, o vergi dairesinden boş dönmeyecek' talimatını verdim.\" dedi.Yapılan temaslar sonucunda bugün vergi dairelerinin saat 24.00’e, Ziraat Bankası, Halk Bankası, Vakıflar Bankası, Finansbank, Türkiye Ekonomi Bankası, Akbank ve Fibabanka'nın da saat 21.00’e kadar, yeniden yapılandırmanın ilk taksitlerini  kabul etmesi kararı alındı.Mükellefler bu saatlerde, bankalar ve vergi daireleri üzerinden taksit ödemelerini yapabilecek.BAKAN'DAN AÇIKLAMA GELDİMaliye Bakanı Naci Ağbal, yeniden yapılandırma için vatandaştan çok yoğun başvuru geldiğini belirterek, \"Kimse merak etmesin, herkes parasını ödeyecek. Arkadaşlara 'Kuyruğa giren hiç bir vatandaş, isterse saat 24.00'ü geçsin, o vergi dairesinden boş dönmeyecek' talimatını verdim.\" dedi.  Ağbal, TÜSİAD'ın Yüksek İstişare Konseyi toplantısı öncesinde Sheraton Oteli'nde düzenlenen kokteylde gazetecilerin sorularını yanıtladı.  Bugün sona erecek yeniden yapılandırma başvurularına ilişkin soru üzerine Ağbal, vergi ve prim borçları başta olmak üzere, bazı alacakların yeniden yapılandırılması ödemeleri için vergi dairelerinin bu gece saat 24.00'e, bankaların da 21.00'e kadar açık olacağını hatırlatarak, \"Bankalar gece 21.00'e kadar açık. Türkiye Cumhuriyeti tarihinde hiç oldu mu?\" diye konuştu.Kamu bankalarının saat 21.00'e kadar şubeleri açık tutma kararı aldıklarını, ardından özel bankaların da benzer yönde karar aldıklarını ifade eden Ağbal, özel bankalardan Akbank, Finansbank ve TEB'in açık olduklarını dile getirdi.Konuyu Türkiye Bankalar Birliği ile görüştüklerini, birliğin de tavsiye olarak bankalara çağrı yaptığını kaydeden Ağbal, bunun üzerine bankalardan olumlu cevap verenlerin söz konusu şubeyi açık tutma kararına katıldığını söyledi.Kendilerinin de bu bankaları ilan ettiklerini hatırlatan Ağbal, \"Kamu bankalarına, buna katkı veren özel bankalara teşekkür ediyoruz. Şu an itibarıyla tahsilat 10 milyar lirayı geçti\" dedi.\"VERGİ DAİRELERİ BÜTÜN VATANDAŞLAR PARALARINI ÖDEYENE KADAR AÇIK\" Vergi dairelerinin bütün vatandaşların paralarını ödeyene kadar açık olacağına dikkati çeken Ağbal, şöyle devam etti:\"Bir vergi dairesine gidin bakın, kapalıysa bana haber verin. Hiç kimse vergi dairelerinden geri döndürülmeyecek. Kimse merak etmesin, herkes parasını ödeyecek. Bütün arkadaşlarımız teyakkuzda, bankalarımız teyakkuzda, banka şubeleri gece 21.00'e kadar açık. Kimse 'parasını ödeyemedim de bu Maliye beni para almadan döndürdü' demeyecek. Arkadaşlara, 'Kuyruğa giren hiçbir vatandaş, isterse saat 24.00'ü geçsin, o vergi dairesinden boş dönmeyecek' talimatı verdim.\"\"ESKİDEN EKMEK KUYRUĞU VARDI, ŞİMDİ BORÇ ÖDEME KUYRUĞU VAR\" Vatandaşların düzenlemeye olan ilgilerini bir kez daha gösterdiklerini ve vergi dairlerinde, bankalarda kuyruk oluşturduklarını dile getiren Ağbal, \"Eskiden ekmek kuyruğu vardı, şimdi vergi dairesinde borç ödeme kuyruğu var. Dolayısıyla bu bizi mutlu ediyor.\" değerlendirmesinde bulundu.Çok yoğun bir başvuru olduğuna dikkati çeken Ağbal, \"Buradan ben dersler çıkardım. Demek ki biz böyle bir güne, risk planı yapıp, daha olağanüstü bir başvuruyu nasıl karşılayacağımıza dair bir tatbikat yapmamız lazımmış ama arkadaşlar da vatandaş da olağanüstü bir gayret sarf ediyor.\" ifadelerini kullandı.Yarın 09.00 itibarıyla rakamların tespit edileceğini bildiren Ağbal, bankalardaki sonuçları daha çabuk görebildiklerini, vergi dairelerindeki sonuçları görebilmenin ise biraz daha zaman gerektirdiğini söyledi. Ağbal, söz konusu rakamları yarın kamuoyuyla paylaşacaklarını ifade etti.  Yeniden yapılandırmada süre uzatımına gidilip gidilmeyeceğine yönelik soruya Ağbal, \"Hayır, süreyi uzatmayacağız\" yanıtını verdi.\n",
      "------------------------------------------\n",
      "article added: \n",
      "Hızır Ali Çakırbeyli rolü ile başarılı bir giriş yapan Yalçın Hafızoğlu, dizinin takipçileri tarafından araştırılmaya başlandı. Eşkıya Dünyaya Hükümdar Olmaz dizisine Ceylan'ın oğlu karakteri ile dahil olan Yalçın Hafızoğlu, bundan sonraki bölümler de Hızır Ali Çakırbeyli karakteri ile izleyicilerin karşısına çıkacak. Peki hakkında birçok şeyin merak edildiği Yalçın Hafızoğlu kimdir? İşte oyuncu hakkında bazı bilgilerYALÇIN HAFIZOĞLU KİMDİR? Yalçın Hafızoğlu 1989 yılında İstanbul'da doğdu. 2012 yılında Kocaeli Üniversitesi Çevre Mühendisliği bölümünden mezun oldu.1999 - 2002 yılları arasında Yücel Berrak' tan davul (bateri) eğitimi aldı. 2014 yılında Nazan Koçak, 2015 yılında Deniz Erdem, 2016 yılında Endemol Shine Türkiye bünyesinde Süeda Çil, Destan Batmaz ve Berna Adıgüzel' den oyunculuk eğitimleri aldı.'Kiralık Aşk' TV dizisinde 'Selim' karakterini ardından 'Keşif' sinema filminde 'Roy' karakterini canlandırdı ve halen 'Eşkiya Dünyaya Hükümdar Olmaz' TV dizisinde 'Hızır Ali Çakırbeyli' karakterini canlandırmaktadır. Ayrıca 'Shall We?' ve 'Alchera' adlı gruplarda davul çalmaktadır.Yer aldığı aktif Projeler :Alchera -- (2012 - halen)Shall We? -- (2015 - halen)Sahne Projeleri:Gürcan Ersoy -- (2013 - halen)Sonlanmış Projeler:Heisenberg -- (2014 - 2016)Fetiblue Blues Band -- (2014)Teşne -- (2014)Tale Box -- (2013 - 2014)Mr&Mrs; -- (2013)Merlot -- (2010)Krank -- (2009)Akis -- (2008 - 2010)Fractal Dimension -- (2007 - 2011)Integrity / 70 Db -- (2005 - 2010)Gikal -- (2003 - 2006)\n",
      "------------------------------------------\n",
      "article added: \n",
      "Güvenlik endişeleri ve turist sayısındaki gerilemeye bağlı olarak yolcu doluluk oranlarında yaşanan düşüşün ardından aktif kapasite yönetimi tedbirlerine yönelen Türk Hava Yolları (THY) filosundaki sekiz adet Airbus A330-200 uçağın kiralanması için Cabot Aviation'u yetkilendirdi.Cabot Aviation'ı bünyesinde bulunduran Air Partner tarafından yapılan açıklamada, THY bünyesindeki sekiz adet uçağın dry-lease ya da wet-lease yoluyla kiralanması için Cabot Aviation'un yetkilendirildiği belirtildi.BEŞ YIL ÖNCE ÜRETİLDİLERAçıklamaya göre, 2007-2011 arasında üretilen söz konusu uçaklar 24 business ve 255 economy sınıfı koltuğa sahip.THY, konuya ilişkin bir açıklama yapmadı.Reuters'ta geçtiğimiz günlerde yayınlanan bir analizde, güvenlik endişeleri ve turist sayısındaki gerilemeye bağlı olarak yolcu doluluk oranlarında düşüş yaşayan THY'nin kapasite yavaşlatma tedbirleri içinde olduğu belirtilmişti.DOLULUK ORANINDA 4 PUANLIK DÜŞÜŞTHY'nin açıkladığı son verilere göre, Ocak-Ekim döneminde yolcu sayısı geçen yıl aynı döneme göre yüzde 3.7 artışla 53.8 milyon oldu. Ancak gösterge niteliğindeki yolcu doluluk oranı 4 puan düşüşle yüzde 74.6'ya geriledi.THY, düşen doluluk oranlarının etkisiyle Airbus ve Boeing'den satın aldığı bazı uçakların teslim tarihlerini ötelemiş; kira uçakların erken iadesi konusunda da Lessorlar ile anlaşma sağlamıştı.THY, üçüncü çeyrek sonuçlarının ardından yatırımcı sunumunda yer alan değerlendirmesinde de, arz edilen koltuk kilometre başına hasılattaki (RASK) kayıpları önlemek için aktif kapasite yönetimi yaptığını belirtmişti.THY yetkilendirmesiyle ile ilgili değerlendirmede bulunan Cabot Aviation Kıdemli Başkan Yardımcısı Greg Cope, \"THY'nin bu uçakları, işletmeciye kapasitesini hızlı şekilde artırmak veya pazarı wet-lease ya da dry-lease kiralama ile daha uzun vadeli test etme imkanı sunuyor. Bir işletmecinin hali hazırda bir başka motor türü veya şekliyle A330'ları varsa bile bu sekiz uçak kendi \"mini filosunu\" oluşturma potansiyeli de taşıyor\" dedi.THY 30 uağı yere indirdi\n",
      "------------------------------------------\n",
      "Nothing found on: http://web.archive.org/web/20161130190715/http://www.hurriyet.com.tr/galatasaray-elazigspor-turkiye-kupasi-maci-hangi-kanalda-saat-kacta-40292124\n",
      "------------------------------------------\n",
      "article added: \n",
      "Yağ deyince herkesin durup bir düşündüğünü, çoğu zaman da aklına “fazla kilo” gibi şeyler getirdiğini biliyoruz. Ancak unutulmaması gereken bir nokta var. Vücudunuza dahil ettiğiniz yağlar doğal ve dozunda olduğu sürece hiçbir sıkıntı yok. Kızartma ya da işlenmiş yağlı besinleri tükettiğiniz sürece problem var demektir. Oysaki balıktan alacağınız omega ve avokadodan alacağınız doymuş yağ size zarar değil fayda sağlayacaktır. Ancak her şeyde olduğu gibi bu yararlı yağların bile miktarına dikkat etmek gerekiyor. Hızlı yağ yakımını gerçekleştirmek için gerek beslenmenizde gerek egzersiz çeşitlerinizde dikkat etmeniz gereken bazı noktalar var. Yemeniz ya da uzak durmanız gereken yiyecekleri öğrenip, yaptığınız egzersizin işleyişini değiştirerek yağ yakımını normalden etkin hale getirebilirsiniz.YAĞ TAKİBİYağ oranını takip etme ve sürekli olarak kontrol etme fikri birazcık korkutucu gelebilir. Ancak sonucunu gördüğünüzde bunu yaptığınıza hiç de pişman olmayacaksınız. Günlük almanız gereken 10-15 g yağ için, besinleri tüketmeden önce ufak bir kontrol yapmanızda fayda var. Ambalajlı ürünlerde rahatlıkla görebileceğiniz yağ miktarları, neyi ne kadar tüketmeniz gerektiği konusunda fikir verecek. Her yediğiniz öğünün yağ oranını kontrol edemeseniz de ambalajlı gıdalarınkine baksanız bile avantajda sayılırsınız.GÜNDE 1200 KALORİGün içinde az kalori almak, az öğün yemek size hiçbir fayda sağlamayacağı gibi düzensiz beslenmeye yol açarak dengelerinizi alt üst edecektir. Gün içinde 1200 kalorinin altına düşmek metabolizmanıza “açlık” uyarısı göndereceğinden aldığınız her kaloriyi korumaya çalışacaktır. Bu günlük kalori miktarının büyük ve önemli bir kısmını karşılamak için kahvaltıyı es geçmemenizi öneriyoruz. Sizi neredeyse tüm gün ayakta tutacak, doğru yapıldığında güne iyi ve enerjik başlamanızı sağlayacak kahvaltı, hızlı bir metabolizmanın en iyi dostlarından biri…SIVI TÜKETİMİSpor ve beslenme dünyası her fırsatta doğru sıvı tüketiminin metabolizma üzerindeki olumlu etkisinden bahsediyor. Bu olumlu etkiler metabolizmaya yüzde 20’lik bir hız kazandırıyor. Gün içinde tükettiğiniz 2 litre su, yapılan araştırmalara göre haftada 400-500 g kaybetmenize neden oluyor. Suyun yanı sıra, bitki çayları, ev yapımı buzlu çaylar ya da meyve suları da suya alternatif olabilecek içecekler arasında. Uzak durmanız gerekenler ise, aşırı çay, kahve ve alkol…*** Bir bardak suya katacağınız yarım limon suyu, vücudunuzun yağ deposundaki yağ asitlerini çözmeye yardımcı olarak daha enerjik olmanızı sağlar.EĞİME KARŞI KOŞUKoşunun yağ yağma egzersizleri arasında en çabuk sonuç vereni olduğunu biliyoruz. Düzenli yapılan koşu egzersizleri bir süre sonra vücudunuzda ufak da olsa fazla bir yağ birikintisi bırakmayarak sizi sağlıklı ve sportif biri haline getirmekle görevli. Evet, koşu düzenli olarak yapıldığında iyi ve kaliteli bir şekilde yağ yakmanızı sağlıyor ama etkiyi fazlalaştırmak da size kalıyor. Örneğin koşu bandında eğimi fazlalaştırarak yağ yakımını hızlandırabilirsiniz. Koşunuzu dışarıda yapıyorsanız da yokuşları tercih edebilirsiniz. Bu eğimler size daha fazla efor sarf ettireceğinden yağ yakımınız için de daha yararlı olacaktır.HAREKET ZAMANIBir ofis çalışanıysanız yağ yakmak için sandalyenizden biraz kalkıp hareket etmenizi rica edeceğiz. İşiniz dolayısıyla sizi sürekli masa ve sandalyeye tutsak eden bu durumu saat başı yerinizden kalkıp birkaç tur atarak avantaja çevirebilirsiniz. Çünkü yağ yakımını sürekli hale getirmenin yolu hareket etmekten, sürekli oturmamaktan geçiyor. Akşam ya da sabah yapacağınız egzersizlerin yanı sıra üşengeçliği bir kenara bırakıp, yapabildiğiniz ve gidebildiğiniz kadarıyla bir yerlere hareket etmek en güzel yağ yakma yollarından biri.İKİSİ BİR ARADAKoşu en güzel yağ yakma antrenmanlarından biri dedik ama koşunun verdiği etkiyi ağırlık çalışmasıyla birlikte yaparak yağ yakımını hızlandırabilirsiniz. Özellikle her gün yaptığınız koşu yağ yağma seviyenizi en üst noktaya taşırken, kendinize göre kaldırdığınız ağırlıklar da yaktığınız yağları kasa çevirerek ortaya daha güzel bir sonuç çıkaracak. Unutmamanız gereken bir diğer nokta ise kardiyonun yağlarınızı yakarken size kilo kaybettireceği… Olmanız gereken kilonun altına düşmek, çelimsiz gözükmek istemiyorsanız, yağ yakma egzersizlerinizi mutlaka iyi bir beslenme ve ağırlık çalışmalarıyla tamamlamalısınız.ERKEN AKŞAM YEMEĞİYoğun tempolu bir iş hayatınız olabilir. Buna bağlı olarak öğünlerinizde de aksamalar olabilir. Ancak yağ oluşumunu engellemek adına bu düzeni bir şekilde oturtmanız gerektiğini hatırlatmak isteriz. Akşam yemeklerinizi uykunuzdan dört saat önce yiyerek yağlara karşı savaş açabilirsiniz. Çünkü akşam saatlerinde metabolizma hızınız yavaşlayacağından, hafif ve sağlıklı atıştırmalıklar dışında bir şey yememeniz öneriliyor. Çünkü uyku öncesinde yediğiniz yemekler size yağ olarak geri dönüyor…MUHTEŞEM İKİLİSevenleri olduğu kadar, kokularından ötürü sevmeyenlerin de çok olduğu soğan ve sarımsak ikilisini antibiyotik olarak görebileceğiniz gibi, hızlı etki eden yağ yakıcılar olarak da kullanabilirsiniz. Bağışıklık sisteminin gücünü ikiye katlamayı başaran bu besinler, mide ve bağırsak kanserine karşı kalkan görevi görüyor. Evet, bu iki besinin de kötü kokular yaydığı bir gerçek. Ancak siz yağ yakımınızı hızlandırmak adına sıcak yemeklerinizde diriliğini hafif bir şekilde öldürerek tüketebilirsiniz.YAĞ YAKIMINI HIZLANDIRMAK İÇİN BU BESİNLERDEN YARDIM ALINKeten tohumuSoya fasulyesiKırmızı biberEsmer pirinçMercimekZeytinyağıPortakalGreyfurtZencefilAnanasYeşil çayCevizSirkeBalSütYAĞ YAKICI EGZERSİZLERİN FAYDALARIKalp ve dolaşım sisteminin düzgün çalışmasına yardımcı olur.Daha güçlü ve zinde olmanızı sağlar.Uyku düzeninize iyi gelir.Tansiyonu düzene sokar.Motivasyonunuzu yükseltir, psikolojik olarak iyi hissettirir.\n",
      "------------------------------------------\n",
      "Nothing found on: http://web.archive.org/web/20161130190715/http://www.hurriyet.com.tr/kesfet/istanbulda-yeni-nesil-bir-hayatin-6-sifresi-40281348\n",
      "------------------------------------------\n",
      "article added: \n",
      "Açıköğretim sınavı soru ve cevaplarının Anadolu Üniversitesi üzerinden yayınlanması ardından şimdide AÖF sınav sonuçları ne zaman açıklanacak? sorusu gündeme geldi. Bu yılki sistemin değişmesi nedeniyle kaygı duyan öğrenciler, 4 yanlışın 1 doğruyu götüreceği yeni sistemin AÖF sınav sonuçlarını nasıl etkileyeceğini kaygıyla ve büyük bir merakla bekliyor. Peki, Açıköğretim Fakültesi sınav sonuçları için öngörülen bir tarih var mı? İşte, detaylar!AÖF güz dönemi sınav sonuçlarının ne zaman açıklanacağı açıköğretim öğrencileri merak konusu olmuş durumda. AÖF güz dönemi vize sınavlarını tamamlayan öğrenciler yeni sınav sistemine göre artık 4 yanlışın 1 doğruyu götüreceğinin açıklanması ardından öğrenciler soru ve cevapları daha yakından takip etmeye başladı. AÖF soru ve cevapları dün açıklandı ve öğrenciler doğru ve yanlışlarını kontrol etmeye başladılar. Sonuçların açıklanacağı tarihe yönelik açıklamalar olup olmadığını sosyal medya hesaplarındaki tartışma platformlarından takip eden öğrenciler, bir yandan da Anadolu Üniversitesi'nin resmi sitesini ziyaret ediyor. Peki, AÖF güz dönemi sınav sonuçları ne zaman açıklanacak? İşte detaylar...Hafta sonundan beri bekleyen AÖF öğrencilerinin soru ve cevaplara yönelik beklentisi dün akşam gerçekleşti. Özellikle 4 yanlışın 1 doğruyu götüreceği yeni uygulamanın ardından büyük bir merakla AÖF soru ve cevaplarını sorgulayan öğrenciler, doğru ve yanlışlarını tespit etme imkanı buldu. Soru ve cevapların ardından ise AÖF sınav sonuçları ne zaman açıklanır? sorusu gündeme geldi. Öğrencilerin puanlarını hesaplamak için büyük bir merakla beklediği soru ve cevaplar, dün akşam yayımlandı. Geçtiğimiz hafta sonu sınava giren öğrencilerin yeni gündemi ise sonuçlar oldu. Sonuçların açıklanacağı tarihe yönelik açıklamalar olup olmadığını sosyal medya hesaplarındaki tartışma platformlarından takip eden öğrenciler, bir yandan da Anadolu Üniversitesi'nin resmi sitesini ziyaret ediyor. Peki, AÖF sonuçları ne zaman açıklanır, resmi bir açıklama geldi mi? İşte, Açıköğretim Fakültesi öğrencilerinin merak ettiği sorulara yanıtlar!AÖF SINAV SONUÇLARI NE ZAMAN AÇIKLANIR?Yeni sınav sistemine göre artık 4 yanlış 1 doğruyu götüreceğinin açıklanması ardından öğrenciler, hem soru ve cevapları daha yakından takip etmeye başladı hem de AÖF sonuçları ne zaman açıklanır? sorusunu daha sık sormaya başladı. Bu yeni düzenlemenin sınavların açıklanacağı tarihi ne kadar etkileyip etkilemeyeceği de merak konusu ancak geçtiğimiz yıllara bakıldığında sınavların 15 gün içerisinde açıklandığı göze çarpıyor. AÖF sonuçlarına dair resmi bir açıklama yok ancak öğrenciler, sınav sonuçlarını AÖF öğrenci otomasyonu sistemi aracılığıyla takip edebilirler.AÖF FİNAL SINAVLARI NE ZAMAN?Finaller 14 Ocak 2017 Cumartesi ve 15 Ocak 2017 Pazar günü yapılacaktır.14-15 Ocak 2017 tarihlerinde yeni bir sınav merkezinde sınava girmek isteyen öğrenciler 29 Kasım 2016 tarihine kadar sınav merkezi tercih işlemlerini yapmaları halinde Güz Dönemi Dönem Sonu Sınavına yeni sınav merkezinde girebilirler. 29 Kasım 2016 tarihinden sonra yapılan sınav merkezi tercihleri bir sonraki sınavlar için geçerli olacaktır.AÖF not sistemi değerlendirmesinde değişiklik yapıldı. Uzun zamandır tartışma konusu olan AÖF sınavlarında artık 4 yanlış 1 doğruyu götürecek. Çoktan seçmeli Açıköğretim Fakültesi (AÖF) 5 seçenekli test tipi sorularda, 4 yanlışın bir doğru cevabı eksiltmesi, AÜ Senatosunca karara bağlandı.Bahar döneminde ise ilk vize 15 Nisan 2017 – 16 Nisan 2017 (Cumartesi-Pazar) günleri yapılacaktır. 2017’nin son finali ise 27-28 Mayıs 2017 tarihlerinde olacaktır.Sınavlar bittikten sonra “tek ders sınavı” ise 15 Temmuz 2016 Cumartesi günü olacaktır.AÖF SORU VE CEVAPLARINA ULAŞMAK İÇİN TIKLAYINBu yıl Açıköğretim Fakültesin’de eğitim görenlerin merak ettiği sorulardan biri de 4 yanlışın 1 doğruyu götüreceğine dair yorumlardı. Herkesin merak ettiği bu soruya yanıtı, Anadolu Üniversitesi Rektörü Prof. Dr. Naci Gündoğan verdi. Gündoğan, AÖF yeni sistemiyle ilgili olarak YÖK'ün AÖF'te belirli bir standart uygulamak istediğini söyledi. Naci Gündoğan, 2016 yılından itibaren bu sistemin usul ve esaslara göre yapılacağını, 4 yanlışın 1 doğruyu götüreceğini ve ona göre sonuçların açıklanacağını belirtti. Buna göre, dört yanlış bir doğruyu götürürken, 0.25 puan sistemi geliyor. Her bir yanlış cevap öğrencinin 0.25 puan doğru hanesinden eksilecek.Açıköğretim güz dönemi ara sınav oturumlarına katılan adaylar, hem değişen sisteme yönelik eleştirilerini hem de AÖF soru ve cevaplara yönelik düşüncülerini Twitter, Facebook gibi sosyal medya hesapları ve forumlarında üzerinden tartışıyor. Yeni uygulama tepkili olan öğrenciler hem sosyal medya araçlarından konuyla ilgili sitemde bulundu hem de Change.org üzerinden yeni bir kampanya başladı. İşte, sosyal medya hesaplarından yapılan o yorumlar!Engelli öğrenci AÖF'ün sunduğu fırsatla ikinci üniversitesini okuyorAnadolu Üniversitesi Açıköğretim Fakültesi’nin (AÖF) İkinci Üniversite programında öğrenim gören görme engelli Abidin Karademir, herkese örnek olacak bir başarı hikayesine imza atıyor.  Anadolu Üniversitesi Eğitim Fakültesi İngilizce Öğretmenliği Bölümü’nün yanı sıra ikinci üniversite olarak da AÖF’te Uluslararası İlişkiler okuyan sürekli görme engeli olan 23 yaşındaki Abidin Karademir, azmiyle birçok kişiye örnek oluyor. Günlük hayatında birçok sosyal ve sportif aktivitede bulunan Karademir, tüm zorluklara rağmen eğitim hayatına da oldukça başarılı bir şekilde devam ediyor. Örgün sistemde son sınıf, Açıköğretimde ise 3’üncü sınıfta olan Karademir, sınavlarına gözetmenler yardımıyla giriyor. İki gözetmen eşliğinde sınavlara giren Karademir’e gözetmenler, sınav süresi boyunca soruları okuyarak cevap kağıdına kodlamayı da gerçekleştiriyorlar.\"Engelliler herkesten farklı binalarda sınavlara giriyor\"İHA muhabirine açıklamalarda bulunan Abidin Karademir, iki eğitimine birden devam ettiğini anlattı. Birçok sosyal ve spor faaliyetiyle de uğraştığını aktaran Abidin Karademir, “Engelliler herkesten farklı binalarda sınavlara giriyor ve sınıflarda tek bir kişi oluyor 5-10 kişi yerine. Çünkü örneğin görme engelliler için 2 kişi veriyorlar. Bunlardan birisi okuyor diğeri işaretliyor. Yorulduklarında yer değiştirebiliyorlar. Şekilli sorulardan muaf tutuluyoruz. Çünkü karşıdakinin şekli anlatma yetisi çok iyi olmayabiliyor. Soru açıklanamayabilir ya da direk görme gerektiren bir soru olabilir. Bu tür sorulardan muaf tutuluyoruz” dedi.\"Okul için memurluktan istifa ettim\"Engelli bireylerin istediği takdirde birçok şeyi başarabileceğine vurgu yapan 23 yaşındaki Karademir, okumak için memurluktan istifa ettiğini anlattı. Karademir, “Bir kısım var hayata küsmüş olanlar. Onlar isterlerse her şeyi yapabilirler. Sorunlar var ama bu sorunları aşmalılar. Ben mesela bir ara çalışıyordum memur olarak atanmıştım KPSS sonucu. Ama çalıştığım kurum okuluma gitmeme izin vermedi. Ben 1 yıl kadar çalıştım. Memurluk güzel meslek birçok kişi ister ama okul için istifa ettim. Okula izin vermedikleri için. Bunda da okuyabilecek durumda olan görme engelliler kesinlikle okusunlar. Kendilerine inanırlarsa herhangi bir işi çok rahat yapabilirler. Bu memurluk onlar için çok basit de kalabilir. Yeter ki kendilerine inansınlar. Bu akademik anlamda olur, sportif ya da sosyal anlamda olur. Küsmesinler. Birden ‘Pat’ diye bir başlangıç yapamazlar ama yavaş yavaş başarı basamaklarını çıkarlarsa hem sağlam hem de onu yaşayarak çıkmış olurlar. Bunu biliyorum” ifadelerini kullandı.\"Hiçbir engelli hayata küsmemeli ve başarılarını herkese göstermeli\"Türkiye’de çok başarılı engelli insanlar olduğunu belirten Abidin Karademir konuşmasını şöyle sürdürdü:  “Avrupa’da da ve Dünya’da da söz sahibi olan görme engelli ve diğer engel grubundan kişiler var. Bunları örnek alsınlar. Yapılabildiğini hem kendileri görsün hem de diğer herhangi bir engel grubuna dahil olmayan insanlara da göstersinler. Çünkü bazen bizi dışarıdaki insanlar beceriksiz olarak görebiliyorlar. Çünkü bizi tanımıyorlar. ‘Biz okula gidebilir miyiz? Gidersek nasıl gidebiliriz? Spor yapabilir miyiz? Yaparsak ne tür sporları nasıl yaparız?’ bunları hiç bilmiyorlar. Bunları hayatın içinde daha çok yer alarak göstermemiz lazım. O yüzden hiçbir engelli hayata küsmemeli ve bunları insanlara göstermeli ki gören insanlar da yaptıkları işleri bize göre yapmalı. Esnaf kaldırıma kasa ya da masa sandalye koymamalı. Çünkü bu tamamen farkındalıkla alakalı bir durum.”(İHA)\n",
      "------------------------------------------\n",
      "article added: \n",
      "Prof. Dr. Volkan Baltacı, yeni geliştirilen cihazlar ile kişinin tüm genetik dizisinin çıkarılabileceğini, genetik şifrenin bilinmesinin de hastalıkların tedavisinde önemli bir aşama sağlayacağını açıkladı.Genetik bir tanı merkezinin direktörü olan Prof. Dr. Baltacı, genetik çalışmalar konusunda gelinen noktada açıklamalarda bulundu. Bir insanın ortalama 22 bin geni olduğunu belirten Baltacı, her bir genin de bir fonksiyonu yerine getirdiğini söyledi.               Akıl seviyesinden, midede salınan asit miktarı ve hastalıklara yatkınlığın bu genlerle öngörülebileceğini anlatan Baltacı, \"Genlerin tüm genetik şifremiz içerisindeki hacmi sadece yüzde bir. Bir hücrenin içindeki 3 milyar bazın sadece yüzde biri, kodlayan, bize özellik veren gen dediğimiz bölgeleri içeren kısımdır. Geri kalanı ise genetiğin tam iyi anlayamadığımız ama yavaş yavaş anladığımız diğer parçasıdır.\" dedi.               Direktörlüğünü yürüttüğü genetik tanı merkezince kullanılan ve genetik şifreyi ortaya çıkaran cihazı tanıtan Baltacı, \"Bir insan genomu demek, bir hücrenin içindeki tüm genetik materyal demek. Bu tüm genetik materyali bu cihaz bize dizeleyip verebiliyor. Çok büyük bir bilgi. Bunu da çok büyük kapasiteli depolarda ancak saklayabiliriz ve çok kapasiteyi bilgisayarlarda da yorumlayabiliyoruz.\" diye konuştu.               Baltacı'nın sözünü ettiği genetik materyalin bir cihaz aracılığıyla dizelenmesi, insan DNA'sında yer alan tüm genetik özelliklere sahip şifrelerin, yakın gelecekte \"hafıza kartlarına\" yüklenebilmesine imkan tanıyacak. Bu sayede, genetik geçmiş, artık küçük bir hafıza kartında cüzdanda taşınabilecek.            \"İNSAN ÖMRÜ UZAYACAK\"               Baltacı, genetik şifrenin \"kişiye özel\" tedavi imkanı ile birlikte \"tanı konulamamış vakaların tespitini\" de sağlayabileceğini söyledi.               Zeka geriliği ile seyreden kas hastalıkları, metabolik bozukluklarla seyreden ve çoğu zaman tedavisi olmayan rahatsızlıkların sebebinin ortaya çıkarılamamasının genetik şifre hataları ile ilişkili olduğunu belirten Baltacı, şu değerlendirmede bulundu:               \"Bir grup hastada biz bu bölgeyi iyi tarasak bile genetik şifrede bir hata bulamıyoruz. Örneğin, bir kadın üç defa aynı bozukluktan hasta çocuk doğuruyor. Bunu şansla açıklamak mümkün değil. Belli ki genetik bir durum, ya babadan ya da anneden geçiyor. Genetik şifreyi tarıyoruz ama bazen hiçbir şey bulamıyoruz. Bunların bir kısmı, genetiğin diğer yüzde 99'luk kısmından kaynaklanıyor. Biz artık genomun tamamına bakıyoruz. Yeni cihazlar, hastanın kanından izole ettiğimiz DNA'yı koyduğumuz zaman bu alet bütün genetik materyali başından sonuna kadar dizisini çıkarabiliyor.\"               Prof. Dr. Baltacı, genetik şifrelerin ortaya çıkmasının en büyük yararının, kişiye özel tedavi imkanı sunması olduğuna dikkati çekerek, şöyle dedi: �\"Genetik, bilimin üzerinde durduğu en önemli konudur. Bütün genetik bilimi bu ilişkiyi çözmeye çalışıyor. Bu ne kadar zengin olursa insan ömrü de o kadar uzayacak. Hastalıklara da o kadar az yakalanacağız. Orası çünkü her bir kişi için kendi vücudunun kullanım kılavuzu. O yüzde birlik kısım genelde benzer, yüzde 99'luk kısım ise çok farklı varyasyonlardan oluşuyor. Genetik şifreyi bilmek kişi için çok büyük avantajları ve dezavantajları beraberinde getirebilir. Ben o bilgiyi bilerek size diyebilirim ki 'Sizin metabolizmanız şu molekülü iyi sindiremiyor. Ondan zararlı atıkları arındırması mümkün değil. Bu da kanser yapabilir. Siz bundan uzak durun.' Size  söyleyebileceğimiz bir uyarı sizin ömrünüze 5 yıl katabilir. \"\n",
      "------------------------------------------\n",
      "Collected 10 articles added to database\n"
     ]
    }
   ],
   "source": [
    "%store -r content_list\n",
    "from http.client import RemoteDisconnected\n",
    "count = 0\n",
    "\n",
    "for uri_inf in content_list:\n",
    "    if count == 10:\n",
    "        break\n",
    "    # Gets news text for a given specific url: makes get request, removes unnecessary text from response.\n",
    "    try:\n",
    "        r_get = requests.get(uri_inf.content_uri)\n",
    "    except RemoteDisconnected as e:\n",
    "        print(e.line)\n",
    "        continue\n",
    "    if r_get.status_code == 200:\n",
    "        platform = db.get_platform_by_object_id(1)\n",
    "        if platform is not None:\n",
    "            scraped_news = scraper.get_news_text(r_get.content, platform)\n",
    "            if scraped_news and scraped_news.strip():\n",
    "                db.create_collected_news(scraped_news, uri_inf.content_uri)\n",
    "                count += 1\n",
    "                print(\"article added: \")\n",
    "                print(scraped_news.strip())\n",
    "                print(\"------------------------------------------\")\n",
    "            else:\n",
    "                print(\"Nothing found on: \" + uri_inf.content_uri)\n",
    "                print(\"------------------------------------------\")\n",
    "                \n",
    "print(\"Collected 10 articles added to database\")"
   ]
  },
  {
   "cell_type": "markdown",
   "metadata": {},
   "source": [
    "After collecting corpus, data needs to be cleaned and prepared for analysis. Corpus is cleaned by regex while getting data from database via get_sample_document_list method. Article text tokenized into words and stop words are removed from tokens."
   ]
  },
  {
   "cell_type": "code",
   "execution_count": null,
   "metadata": {
    "collapsed": false
   },
   "outputs": [
    {
     "name": "stdout",
     "output_type": "stream",
     "text": [
      "Stored 'terms' (list)\n",
      "Stored 'sample_data' (list)\n"
     ]
    }
   ],
   "source": [
    "stemmer = snowballstemmer.stemmer(\"turkish\")\n",
    "stopwords = set(stopwords.words(\"turkish\"))\n",
    "stopwords.update(['.', ',', '\"', \"'\", \"''\", '\"\"', '?', '!', ':', ';', '(', ')', '[', ']', '{', '}'])\n",
    "sample_data, url_list = db.get_sample_document_list()\n",
    "\n",
    "terms = set()\n",
    "for i in range(len(sample_data)):\n",
    "    terms.update([stemmer.stemWord(token) for token in word_tokenize(sample_data[i].lower()) if token not in stopwords])\n",
    "    \n",
    "terms = list(terms)\n",
    "%store terms   \n",
    "%store sample_data    "
   ]
  },
  {
   "cell_type": "markdown",
   "metadata": {},
   "source": [
    "After articles tokenized, term-document, term-frequency, inverse document frequency and tf-idf matrices are constructed."
   ]
  },
  {
   "cell_type": "code",
   "execution_count": null,
   "metadata": {
    "collapsed": false
   },
   "outputs": [],
   "source": [
    "%store -r terms\n",
    "%store -r sample_data\n",
    "import math\n",
    "\n",
    "term_document = []\n",
    "for i in range(len(terms)):\n",
    "    term_document.append([])\n",
    "    term_document[i] = [sample_data[doc_index].count(terms[i]) for doc_index in range(len(sample_data))]\n",
    "\n",
    "term_freq = []\n",
    "for i in range(len(terms)):\n",
    "    term_freq.append([])\n",
    "    term_freq[i] = [sample_data[doc_index].count(terms[i]) / len([token for token in word_tokenize(sample_data[doc_index].lower()) if token not in stopwords]) for doc_index in range(len(sample_data))]\n",
    "\n",
    "inverse_document_freq = [0] * len(terms)\n",
    "for i in range(len(terms)):\n",
    "    inverse_document_freq[i] = math.log(len(sample_data) / (1 + len([doc_index for doc_index in range(len(sample_data)) if term_document[i][doc_index] > 0])))\n",
    "\n",
    "tfidf = []\n",
    "for i in range(len(terms)):\n",
    "    tfidf.append([])\n",
    "    tfidf[i] = [term_frequency * inverse_document_freq[i] for term_frequency in term_freq[i]]\n",
    "%store tfidf\n"
   ]
  },
  {
   "cell_type": "markdown",
   "metadata": {},
   "source": [
    "After tf-idf matrix constructed by corpus, SVD of matrix is calculated. Appropriate column of matrix U is choosen and terms are sorted according to that column of U matrix."
   ]
  },
  {
   "cell_type": "code",
   "execution_count": null,
   "metadata": {
    "collapsed": false
   },
   "outputs": [],
   "source": [
    "%store -r tfidf\n",
    "%store -r terms\n",
    "\n",
    "U, s, V = numpy.linalg.svd(tfidf, full_matrices=True)\n",
    "token_scores = U[:, 0]\n",
    "u = numpy.array(token_scores).argsort()[::-1][:20]\n",
    "print(\"Keywords are:\")\n",
    "for i in range(len(u)):\n",
    "    print(terms[u[i]])"
   ]
  }
 ],
 "metadata": {
  "kernelspec": {
   "display_name": "Python 3",
   "language": "python",
   "name": "python3"
  },
  "language_info": {
   "codemirror_mode": {
    "name": "ipython",
    "version": 3
   },
   "file_extension": ".py",
   "mimetype": "text/x-python",
   "name": "python",
   "nbconvert_exporter": "python",
   "pygments_lexer": "ipython3",
   "version": "3.5.1"
  }
 },
 "nbformat": 4,
 "nbformat_minor": 2
}
